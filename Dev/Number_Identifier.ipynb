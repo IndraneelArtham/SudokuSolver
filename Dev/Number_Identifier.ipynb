{
 "cells": [
  {
   "cell_type": "code",
   "execution_count": 1,
   "metadata": {},
   "outputs": [
    {
     "name": "stdout",
     "output_type": "stream",
     "text": [
      "WARNING:tensorflow:From c:\\Users\\artha\\AppData\\Local\\Programs\\Python\\Python311\\Lib\\site-packages\\keras\\src\\losses.py:2976: The name tf.losses.sparse_softmax_cross_entropy is deprecated. Please use tf.compat.v1.losses.sparse_softmax_cross_entropy instead.\n",
      "\n"
     ]
    }
   ],
   "source": [
    "import tensorflow as tf\n",
    "%matplotlib inline"
   ]
  },
  {
   "cell_type": "code",
   "execution_count": 3,
   "metadata": {},
   "outputs": [],
   "source": [
    "from tensorflow.keras.models import load_model, save_model"
   ]
  },
  {
   "cell_type": "code",
   "execution_count": null,
   "metadata": {},
   "outputs": [],
   "source": [
    "# for class_name in classes:\n",
    "#     class_path = os.path.join('assets', class_name)\n",
    "#     images = os.listdir(class_path)\n",
    "#     train_images, test_images = train_test_split(images, test_size= 0.2, random_state= 42)\n",
    "#     train_class_dir = os.path.join(train_dir, class_name)\n",
    "#     test_class_dir = os.path.join(test_dir, class_name)\n",
    "#     os.makedirs(train_class_dir, exist_ok= True)\n",
    "#     os.makedirs(test_class_dir, exist_ok= True)\n",
    "\n",
    "#     for image in train_images:\n",
    "#         src = os.path.join(class_path, image)\n",
    "#         dst = os.path.join(train_class_dir, image)\n",
    "#         shutil.copy(src, dst)\n",
    "\n",
    "#     for image in test_images:\n",
    "#         src = os.path.join(class_path, image)\n",
    "#         dst = os.path.join(test_class_dir, image)\n",
    "#         shutil.copy(src, dst)\n"
   ]
  },
  {
   "cell_type": "code",
   "execution_count": 5,
   "metadata": {},
   "outputs": [
    {
     "name": "stdout",
     "output_type": "stream",
     "text": [
      "Found 6380 files belonging to 10 classes.\n",
      "Using 5104 files for training.\n",
      "Using 1276 files for validation.\n"
     ]
    }
   ],
   "source": [
    "train, validation = tf.keras.utils.image_dataset_from_directory(\n",
    "    \"assets\",\n",
    "    labels = \"inferred\",\n",
    "    label_mode = \"int\",\n",
    "    color_mode = 'grayscale',\n",
    "    batch_size = 32,\n",
    "    image_size = (28, 28),\n",
    "    validation_split = 0.2,\n",
    "    subset = \"both\",\n",
    "    seed = 2,\n",
    "    )"
   ]
  },
  {
   "cell_type": "markdown",
   "metadata": {},
   "source": [
    "## Creating a CNN"
   ]
  },
  {
   "cell_type": "code",
   "execution_count": 6,
   "metadata": {},
   "outputs": [
    {
     "name": "stdout",
     "output_type": "stream",
     "text": [
      "WARNING:tensorflow:From c:\\Users\\artha\\AppData\\Local\\Programs\\Python\\Python311\\Lib\\site-packages\\keras\\src\\backend.py:873: The name tf.get_default_graph is deprecated. Please use tf.compat.v1.get_default_graph instead.\n",
      "\n",
      "WARNING:tensorflow:From c:\\Users\\artha\\AppData\\Local\\Programs\\Python\\Python311\\Lib\\site-packages\\keras\\src\\layers\\pooling\\max_pooling2d.py:161: The name tf.nn.max_pool is deprecated. Please use tf.nn.max_pool2d instead.\n",
      "\n",
      "Model: \"sequential\"\n",
      "_________________________________________________________________\n",
      " Layer (type)                Output Shape              Param #   \n",
      "=================================================================\n",
      " conv2d (Conv2D)             (None, 26, 26, 32)        320       \n",
      "                                                                 \n",
      " max_pooling2d (MaxPooling2  (None, 13, 13, 32)        0         \n",
      " D)                                                              \n",
      "                                                                 \n",
      " conv2d_1 (Conv2D)           (None, 11, 11, 64)        18496     \n",
      "                                                                 \n",
      " max_pooling2d_1 (MaxPoolin  (None, 5, 5, 64)          0         \n",
      " g2D)                                                            \n",
      "                                                                 \n",
      " flatten (Flatten)           (None, 1600)              0         \n",
      "                                                                 \n",
      " dense (Dense)               (None, 64)                102464    \n",
      "                                                                 \n",
      " dense_1 (Dense)             (None, 10)                650       \n",
      "                                                                 \n",
      "=================================================================\n",
      "Total params: 121930 (476.29 KB)\n",
      "Trainable params: 121930 (476.29 KB)\n",
      "Non-trainable params: 0 (0.00 Byte)\n",
      "_________________________________________________________________\n"
     ]
    }
   ],
   "source": [
    "cnn = tf.keras.models.Sequential()\n",
    "cnn.add(tf.keras.layers.Conv2D(filters=32, kernel_size=3, activation='relu', input_shape=(28, 28, 1)))\n",
    "cnn.add(tf.keras.layers.MaxPool2D(pool_size=2, strides=2))\n",
    "cnn.add(tf.keras.layers.Conv2D(filters=64, kernel_size=3, activation='relu'))\n",
    "cnn.add(tf.keras.layers.MaxPool2D(pool_size=2, strides=2))\n",
    "cnn.add(tf.keras.layers.Flatten())\n",
    "cnn.add(tf.keras.layers.Dense(units=64, activation='relu'))\n",
    "cnn.add(tf.keras.layers.Dense(units=10, activation='softmax'))\n",
    "cnn.summary()"
   ]
  },
  {
   "cell_type": "code",
   "execution_count": 7,
   "metadata": {},
   "outputs": [
    {
     "name": "stdout",
     "output_type": "stream",
     "text": [
      "WARNING:tensorflow:From c:\\Users\\artha\\AppData\\Local\\Programs\\Python\\Python311\\Lib\\site-packages\\keras\\src\\optimizers\\__init__.py:309: The name tf.train.Optimizer is deprecated. Please use tf.compat.v1.train.Optimizer instead.\n",
      "\n"
     ]
    }
   ],
   "source": [
    "cnn.compile(optimizer= 'adam', loss= 'sparse_categorical_crossentropy', metrics= ['accuracy'])"
   ]
  },
  {
   "cell_type": "code",
   "execution_count": 8,
   "metadata": {},
   "outputs": [
    {
     "name": "stdout",
     "output_type": "stream",
     "text": [
      "Epoch 1/20\n",
      "WARNING:tensorflow:From c:\\Users\\artha\\AppData\\Local\\Programs\\Python\\Python311\\Lib\\site-packages\\keras\\src\\utils\\tf_utils.py:492: The name tf.ragged.RaggedTensorValue is deprecated. Please use tf.compat.v1.ragged.RaggedTensorValue instead.\n",
      "\n",
      "WARNING:tensorflow:From c:\\Users\\artha\\AppData\\Local\\Programs\\Python\\Python311\\Lib\\site-packages\\keras\\src\\engine\\base_layer_utils.py:384: The name tf.executing_eagerly_outside_functions is deprecated. Please use tf.compat.v1.executing_eagerly_outside_functions instead.\n",
      "\n",
      "160/160 [==============================] - 10s 48ms/step - loss: 2.5683 - accuracy: 0.5045 - val_loss: 0.8927 - val_accuracy: 0.7147\n",
      "Epoch 2/20\n",
      "160/160 [==============================] - 2s 12ms/step - loss: 0.5611 - accuracy: 0.8194 - val_loss: 0.3801 - val_accuracy: 0.8746\n",
      "Epoch 3/20\n",
      "160/160 [==============================] - 2s 12ms/step - loss: 0.2088 - accuracy: 0.9375 - val_loss: 0.2554 - val_accuracy: 0.9271\n",
      "Epoch 4/20\n",
      "160/160 [==============================] - 2s 12ms/step - loss: 0.0912 - accuracy: 0.9716 - val_loss: 0.2222 - val_accuracy: 0.9287\n",
      "Epoch 5/20\n",
      "160/160 [==============================] - 2s 12ms/step - loss: 0.0395 - accuracy: 0.9894 - val_loss: 0.2346 - val_accuracy: 0.9373\n",
      "Epoch 6/20\n",
      "160/160 [==============================] - 2s 13ms/step - loss: 0.0504 - accuracy: 0.9849 - val_loss: 0.2334 - val_accuracy: 0.9350\n",
      "Epoch 7/20\n",
      "160/160 [==============================] - 2s 13ms/step - loss: 0.0360 - accuracy: 0.9886 - val_loss: 0.1764 - val_accuracy: 0.9553\n",
      "Epoch 8/20\n",
      "160/160 [==============================] - 2s 12ms/step - loss: 0.0711 - accuracy: 0.9802 - val_loss: 0.1623 - val_accuracy: 0.9592\n",
      "Epoch 9/20\n",
      "160/160 [==============================] - 2s 12ms/step - loss: 0.0235 - accuracy: 0.9935 - val_loss: 0.1770 - val_accuracy: 0.9577\n",
      "Epoch 10/20\n",
      "160/160 [==============================] - 2s 12ms/step - loss: 0.0219 - accuracy: 0.9941 - val_loss: 0.2371 - val_accuracy: 0.9381\n",
      "Epoch 11/20\n",
      "160/160 [==============================] - 2s 13ms/step - loss: 0.0250 - accuracy: 0.9914 - val_loss: 0.1712 - val_accuracy: 0.9561\n",
      "Epoch 12/20\n",
      "160/160 [==============================] - 2s 14ms/step - loss: 0.0158 - accuracy: 0.9951 - val_loss: 0.1629 - val_accuracy: 0.9616\n",
      "Epoch 13/20\n",
      "160/160 [==============================] - 2s 13ms/step - loss: 0.0284 - accuracy: 0.9916 - val_loss: 0.1691 - val_accuracy: 0.9498\n",
      "Epoch 14/20\n",
      "160/160 [==============================] - 2s 13ms/step - loss: 0.0330 - accuracy: 0.9896 - val_loss: 0.1838 - val_accuracy: 0.9592\n",
      "Epoch 15/20\n",
      "160/160 [==============================] - 2s 13ms/step - loss: 0.0186 - accuracy: 0.9937 - val_loss: 0.2643 - val_accuracy: 0.9451\n",
      "Epoch 16/20\n",
      "160/160 [==============================] - 2s 13ms/step - loss: 0.0495 - accuracy: 0.9857 - val_loss: 0.2278 - val_accuracy: 0.9530\n",
      "Epoch 17/20\n",
      "160/160 [==============================] - 2s 13ms/step - loss: 0.0144 - accuracy: 0.9957 - val_loss: 0.1598 - val_accuracy: 0.9671\n",
      "Epoch 18/20\n",
      "160/160 [==============================] - 2s 14ms/step - loss: 0.0042 - accuracy: 0.9992 - val_loss: 0.1469 - val_accuracy: 0.9694\n",
      "Epoch 19/20\n",
      "160/160 [==============================] - 2s 14ms/step - loss: 4.6597e-04 - accuracy: 1.0000 - val_loss: 0.1432 - val_accuracy: 0.9702\n",
      "Epoch 20/20\n",
      "160/160 [==============================] - 2s 13ms/step - loss: 1.7387e-04 - accuracy: 1.0000 - val_loss: 0.1396 - val_accuracy: 0.9734\n"
     ]
    },
    {
     "data": {
      "text/plain": [
       "<keras.src.callbacks.History at 0x25ee1204e10>"
      ]
     },
     "execution_count": 8,
     "metadata": {},
     "output_type": "execute_result"
    }
   ],
   "source": [
    "cnn.fit(x= train, validation_data= validation, epochs=20)"
   ]
  },
  {
   "cell_type": "code",
   "execution_count": 9,
   "metadata": {},
   "outputs": [
    {
     "name": "stderr",
     "output_type": "stream",
     "text": [
      "c:\\Users\\artha\\AppData\\Local\\Programs\\Python\\Python311\\Lib\\site-packages\\keras\\src\\engine\\training.py:3103: UserWarning: You are saving your model as an HDF5 file via `model.save()`. This file format is considered legacy. We recommend using instead the native Keras format, e.g. `model.save('my_model.keras')`.\n",
      "  saving_api.save_model(\n"
     ]
    }
   ],
   "source": [
    "cnn.save(\"number_identifier.h5\")"
   ]
  },
  {
   "cell_type": "code",
   "execution_count": null,
   "metadata": {},
   "outputs": [],
   "source": [
    "def create_sudoku():\n",
    "    from keras.preprocessing import image\n",
    "    import tensorflow as tf\n",
    "    tf.get_logger().setLevel('ERROR')\n",
    "    from keras.models import load_model\n",
    "    import cv2\n",
    "    import numpy as np\n",
    "    nums = []\n",
    "    cnn = load_model('number_identifier')\n",
    "    # path = \"number_images/\" + str(77) + \".jpg\"\n",
    "    # test_image = image.load_img(path, target_size = (28, 28))\n",
    "    # test_image = image.img_to_array(test_image)\n",
    "    # test_image = cv2.cvtColor(test_image, cv2.COLOR_BGR2GRAY)\n",
    "    # test_image = np.expand_dims(test_image, axis = 0)\n",
    "    # result = list(cnn.predict(test_image, verbose= 0)[0])\n",
    "    # print(result.index(max(result)))\n",
    "    for i in range(81):\n",
    "        path = \"number_images/\" + str(i) + \".jpg\"\n",
    "        test_image = image.load_img(path, target_size = (28, 28))\n",
    "        test_image = image.img_to_array(test_image)\n",
    "        test_image = cv2.cvtColor(test_image, cv2.COLOR_BGR2GRAY)\n",
    "        test_image = np.expand_dims(test_image, axis = 0)\n",
    "        result = list(cnn.predict(test_image, verbose= 0)[0])\n",
    "        num = str(result.index(max(result)))\n",
    "        if num == \"0\":\n",
    "            nums.append(\"\")\n",
    "        else:\n",
    "            nums.append(num)\n",
    "    nums = np.reshape(nums, (9,9))\n",
    "    return nums"
   ]
  }
 ],
 "metadata": {
  "kernelspec": {
   "display_name": "Python 3",
   "language": "python",
   "name": "python3"
  },
  "language_info": {
   "codemirror_mode": {
    "name": "ipython",
    "version": 3
   },
   "file_extension": ".py",
   "mimetype": "text/x-python",
   "name": "python",
   "nbconvert_exporter": "python",
   "pygments_lexer": "ipython3",
   "version": "3.11.6"
  }
 },
 "nbformat": 4,
 "nbformat_minor": 2
}
