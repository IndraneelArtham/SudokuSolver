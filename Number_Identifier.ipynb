{
 "cells": [
  {
   "cell_type": "code",
   "execution_count": null,
   "metadata": {},
   "outputs": [],
   "source": [
    "import tensorflow as tf\n",
    "%matplotlib inline"
   ]
  },
  {
   "cell_type": "code",
   "execution_count": null,
   "metadata": {},
   "outputs": [],
   "source": [
    "# for class_name in classes:\n",
    "#     class_path = os.path.join('assets', class_name)\n",
    "#     images = os.listdir(class_path)\n",
    "#     train_images, test_images = train_test_split(images, test_size= 0.2, random_state= 42)\n",
    "#     train_class_dir = os.path.join(train_dir, class_name)\n",
    "#     test_class_dir = os.path.join(test_dir, class_name)\n",
    "#     os.makedirs(train_class_dir, exist_ok= True)\n",
    "#     os.makedirs(test_class_dir, exist_ok= True)\n",
    "\n",
    "#     for image in train_images:\n",
    "#         src = os.path.join(class_path, image)\n",
    "#         dst = os.path.join(train_class_dir, image)\n",
    "#         shutil.copy(src, dst)\n",
    "\n",
    "#     for image in test_images:\n",
    "#         src = os.path.join(class_path, image)\n",
    "#         dst = os.path.join(test_class_dir, image)\n",
    "#         shutil.copy(src, dst)\n"
   ]
  },
  {
   "cell_type": "code",
   "execution_count": null,
   "metadata": {},
   "outputs": [],
   "source": [
    "# train, validation = tf.keras.utils.image_dataset_from_directory(\n",
    "#     \"assets\",\n",
    "#     labels = \"inferred\",\n",
    "#     label_mode = \"int\",\n",
    "#     color_mode = 'grayscale',\n",
    "#     batch_size = 32,\n",
    "#     image_size = (28, 28),\n",
    "#     validation_split = 0.2,\n",
    "#     subset = \"both\",\n",
    "#     seed = 2,\n",
    "#     )"
   ]
  },
  {
   "cell_type": "markdown",
   "metadata": {},
   "source": [
    "## Creating a CNN"
   ]
  },
  {
   "cell_type": "code",
   "execution_count": null,
   "metadata": {},
   "outputs": [],
   "source": [
    "# cnn = tf.keras.models.Sequential()\n",
    "# cnn.add(tf.keras.layers.Conv2D(filters=32, kernel_size=3, activation='relu', input_shape=(28, 28, 1)))\n",
    "# cnn.add(tf.keras.layers.MaxPool2D(pool_size=2, strides=2))\n",
    "# cnn.add(tf.keras.layers.Conv2D(filters=64, kernel_size=3, activation='relu'))\n",
    "# cnn.add(tf.keras.layers.MaxPool2D(pool_size=2, strides=2))\n",
    "# cnn.add(tf.keras.layers.Flatten())\n",
    "# cnn.add(tf.keras.layers.Dense(units=64, activation='relu'))\n",
    "# cnn.add(tf.keras.layers.Dense(units=10, activation='softmax'))\n",
    "# cnn.summary()"
   ]
  },
  {
   "cell_type": "code",
   "execution_count": null,
   "metadata": {},
   "outputs": [],
   "source": [
    "# cnn.compile(optimizer= 'adam', loss= 'sparse_categorical_crossentropy', metrics= ['accuracy'])"
   ]
  },
  {
   "cell_type": "code",
   "execution_count": null,
   "metadata": {},
   "outputs": [],
   "source": [
    "# cnn.fit(x= train, validation_data= validation, epochs=20)"
   ]
  },
  {
   "cell_type": "code",
   "execution_count": null,
   "metadata": {},
   "outputs": [],
   "source": [
    "# cnn.save(\"number_identifier\")"
   ]
  },
  {
   "cell_type": "code",
   "execution_count": null,
   "metadata": {},
   "outputs": [],
   "source": [
    "def create_sudoku():\n",
    "    from keras.preprocessing import image\n",
    "    import tensorflow as tf\n",
    "    tf.get_logger().setLevel('ERROR')\n",
    "    from keras.models import load_model\n",
    "    import cv2\n",
    "    import numpy as np\n",
    "    nums = []\n",
    "    cnn = load_model('number_identifier')\n",
    "    # path = \"number_images/\" + str(77) + \".jpg\"\n",
    "    # test_image = image.load_img(path, target_size = (28, 28))\n",
    "    # test_image = image.img_to_array(test_image)\n",
    "    # test_image = cv2.cvtColor(test_image, cv2.COLOR_BGR2GRAY)\n",
    "    # test_image = np.expand_dims(test_image, axis = 0)\n",
    "    # result = list(cnn.predict(test_image, verbose= 0)[0])\n",
    "    # print(result.index(max(result)))\n",
    "    for i in range(81):\n",
    "        path = \"number_images/\" + str(i) + \".jpg\"\n",
    "        test_image = image.load_img(path, target_size = (28, 28))\n",
    "        test_image = image.img_to_array(test_image)\n",
    "        test_image = cv2.cvtColor(test_image, cv2.COLOR_BGR2GRAY)\n",
    "        test_image = np.expand_dims(test_image, axis = 0)\n",
    "        result = list(cnn.predict(test_image, verbose= 0)[0])\n",
    "        num = str(result.index(max(result)))\n",
    "        if num == \"0\":\n",
    "            nums.append(\"\")\n",
    "        else:\n",
    "            nums.append(num)\n",
    "    nums = np.reshape(nums, (9,9))\n",
    "    return nums"
   ]
  },
  {
   "cell_type": "code",
   "execution_count": null,
   "metadata": {},
   "outputs": [],
   "source": []
  }
 ],
 "metadata": {
  "kernelspec": {
   "display_name": "Python 3",
   "language": "python",
   "name": "python3"
  },
  "language_info": {
   "codemirror_mode": {
    "name": "ipython",
    "version": 3
   },
   "file_extension": ".py",
   "mimetype": "text/x-python",
   "name": "python",
   "nbconvert_exporter": "python",
   "pygments_lexer": "ipython3",
   "version": "3.11.6"
  }
 },
 "nbformat": 4,
 "nbformat_minor": 2
}
