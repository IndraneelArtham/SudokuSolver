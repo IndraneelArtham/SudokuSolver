{
 "cells": [
  {
   "cell_type": "code",
   "execution_count": 1,
   "metadata": {},
   "outputs": [
    {
     "name": "stdout",
     "output_type": "stream",
     "text": [
      "WARNING:tensorflow:From c:\\Users\\artha\\AppData\\Local\\Programs\\Python\\Python311\\Lib\\site-packages\\keras\\src\\losses.py:2976: The name tf.losses.sparse_softmax_cross_entropy is deprecated. Please use tf.compat.v1.losses.sparse_softmax_cross_entropy instead.\n",
      "\n"
     ]
    }
   ],
   "source": [
    "import tensorflow as tf\n",
    "%matplotlib inline"
   ]
  },
  {
   "cell_type": "code",
   "execution_count": 2,
   "metadata": {},
   "outputs": [],
   "source": [
    "# for class_name in classes:\n",
    "#     class_path = os.path.join('assets', class_name)\n",
    "#     images = os.listdir(class_path)\n",
    "#     train_images, test_images = train_test_split(images, test_size= 0.2, random_state= 42)\n",
    "#     train_class_dir = os.path.join(train_dir, class_name)\n",
    "#     test_class_dir = os.path.join(test_dir, class_name)\n",
    "#     os.makedirs(train_class_dir, exist_ok= True)\n",
    "#     os.makedirs(test_class_dir, exist_ok= True)\n",
    "\n",
    "#     for image in train_images:\n",
    "#         src = os.path.join(class_path, image)\n",
    "#         dst = os.path.join(train_class_dir, image)\n",
    "#         shutil.copy(src, dst)\n",
    "\n",
    "#     for image in test_images:\n",
    "#         src = os.path.join(class_path, image)\n",
    "#         dst = os.path.join(test_class_dir, image)\n",
    "#         shutil.copy(src, dst)\n"
   ]
  },
  {
   "cell_type": "code",
   "execution_count": 3,
   "metadata": {},
   "outputs": [
    {
     "name": "stdout",
     "output_type": "stream",
     "text": [
      "Found 6380 files belonging to 10 classes.\n",
      "Using 5104 files for training.\n",
      "Using 1276 files for validation.\n"
     ]
    }
   ],
   "source": [
    "train, validation = tf.keras.utils.image_dataset_from_directory(\n",
    "    \"assets\",\n",
    "    labels = \"inferred\",\n",
    "    label_mode = \"int\",\n",
    "    color_mode = 'grayscale',\n",
    "    batch_size = 32,\n",
    "    image_size = (28, 28),\n",
    "    validation_split = 0.2,\n",
    "    subset = \"both\",\n",
    "    seed = 2,\n",
    "    )"
   ]
  },
  {
   "cell_type": "markdown",
   "metadata": {},
   "source": [
    "## Creating a CNN"
   ]
  },
  {
   "cell_type": "code",
   "execution_count": 4,
   "metadata": {},
   "outputs": [
    {
     "name": "stdout",
     "output_type": "stream",
     "text": [
      "WARNING:tensorflow:From c:\\Users\\artha\\AppData\\Local\\Programs\\Python\\Python311\\Lib\\site-packages\\keras\\src\\backend.py:873: The name tf.get_default_graph is deprecated. Please use tf.compat.v1.get_default_graph instead.\n",
      "\n",
      "WARNING:tensorflow:From c:\\Users\\artha\\AppData\\Local\\Programs\\Python\\Python311\\Lib\\site-packages\\keras\\src\\layers\\pooling\\max_pooling2d.py:161: The name tf.nn.max_pool is deprecated. Please use tf.nn.max_pool2d instead.\n",
      "\n",
      "Model: \"sequential\"\n",
      "_________________________________________________________________\n",
      " Layer (type)                Output Shape              Param #   \n",
      "=================================================================\n",
      " conv2d (Conv2D)             (None, 26, 26, 32)        320       \n",
      "                                                                 \n",
      " max_pooling2d (MaxPooling2  (None, 13, 13, 32)        0         \n",
      " D)                                                              \n",
      "                                                                 \n",
      " conv2d_1 (Conv2D)           (None, 11, 11, 64)        18496     \n",
      "                                                                 \n",
      " max_pooling2d_1 (MaxPoolin  (None, 5, 5, 64)          0         \n",
      " g2D)                                                            \n",
      "                                                                 \n",
      " flatten (Flatten)           (None, 1600)              0         \n",
      "                                                                 \n",
      " dense (Dense)               (None, 64)                102464    \n",
      "                                                                 \n",
      " dense_1 (Dense)             (None, 10)                650       \n",
      "                                                                 \n",
      "=================================================================\n",
      "Total params: 121930 (476.29 KB)\n",
      "Trainable params: 121930 (476.29 KB)\n",
      "Non-trainable params: 0 (0.00 Byte)\n",
      "_________________________________________________________________\n"
     ]
    }
   ],
   "source": [
    "cnn = tf.keras.models.Sequential()\n",
    "cnn.add(tf.keras.layers.Conv2D(filters=32, kernel_size=3, activation='relu', input_shape=(28, 28, 1)))\n",
    "cnn.add(tf.keras.layers.MaxPool2D(pool_size=2, strides=2))\n",
    "cnn.add(tf.keras.layers.Conv2D(filters=64, kernel_size=3, activation='relu'))\n",
    "cnn.add(tf.keras.layers.MaxPool2D(pool_size=2, strides=2))\n",
    "cnn.add(tf.keras.layers.Flatten())\n",
    "cnn.add(tf.keras.layers.Dense(units=64, activation='relu'))\n",
    "cnn.add(tf.keras.layers.Dense(units=10, activation='softmax'))\n",
    "cnn.summary()"
   ]
  },
  {
   "cell_type": "code",
   "execution_count": 5,
   "metadata": {},
   "outputs": [
    {
     "name": "stdout",
     "output_type": "stream",
     "text": [
      "WARNING:tensorflow:From c:\\Users\\artha\\AppData\\Local\\Programs\\Python\\Python311\\Lib\\site-packages\\keras\\src\\optimizers\\__init__.py:309: The name tf.train.Optimizer is deprecated. Please use tf.compat.v1.train.Optimizer instead.\n",
      "\n"
     ]
    }
   ],
   "source": [
    "cnn.compile(optimizer= 'adam', loss= 'sparse_categorical_crossentropy', metrics= ['accuracy'])"
   ]
  },
  {
   "cell_type": "code",
   "execution_count": 6,
   "metadata": {},
   "outputs": [
    {
     "name": "stdout",
     "output_type": "stream",
     "text": [
      "Epoch 1/20\n",
      "WARNING:tensorflow:From c:\\Users\\artha\\AppData\\Local\\Programs\\Python\\Python311\\Lib\\site-packages\\keras\\src\\utils\\tf_utils.py:492: The name tf.ragged.RaggedTensorValue is deprecated. Please use tf.compat.v1.ragged.RaggedTensorValue instead.\n",
      "\n",
      "WARNING:tensorflow:From c:\\Users\\artha\\AppData\\Local\\Programs\\Python\\Python311\\Lib\\site-packages\\keras\\src\\engine\\base_layer_utils.py:384: The name tf.executing_eagerly_outside_functions is deprecated. Please use tf.compat.v1.executing_eagerly_outside_functions instead.\n",
      "\n",
      "160/160 [==============================] - 3s 13ms/step - loss: 3.4380 - accuracy: 0.2937 - val_loss: 1.6206 - val_accuracy: 0.4303\n",
      "Epoch 2/20\n",
      "160/160 [==============================] - 2s 10ms/step - loss: 1.4042 - accuracy: 0.4929 - val_loss: 1.2530 - val_accuracy: 0.5690\n",
      "Epoch 3/20\n",
      "160/160 [==============================] - 2s 11ms/step - loss: 0.9784 - accuracy: 0.6334 - val_loss: 0.7232 - val_accuracy: 0.7241\n",
      "Epoch 4/20\n",
      "160/160 [==============================] - 2s 11ms/step - loss: 0.4243 - accuracy: 0.8515 - val_loss: 0.5592 - val_accuracy: 0.8033\n",
      "Epoch 5/20\n",
      "160/160 [==============================] - 2s 11ms/step - loss: 0.2086 - accuracy: 0.9328 - val_loss: 0.2209 - val_accuracy: 0.9295\n",
      "Epoch 6/20\n",
      "160/160 [==============================] - 2s 11ms/step - loss: 0.1305 - accuracy: 0.9594 - val_loss: 0.2221 - val_accuracy: 0.9287\n",
      "Epoch 7/20\n",
      "160/160 [==============================] - 2s 11ms/step - loss: 0.1046 - accuracy: 0.9673 - val_loss: 0.2557 - val_accuracy: 0.9255\n",
      "Epoch 8/20\n",
      "160/160 [==============================] - 2s 11ms/step - loss: 0.0949 - accuracy: 0.9696 - val_loss: 0.2500 - val_accuracy: 0.9397\n",
      "Epoch 9/20\n",
      "160/160 [==============================] - 2s 14ms/step - loss: 0.0512 - accuracy: 0.9837 - val_loss: 0.1584 - val_accuracy: 0.9608\n",
      "Epoch 10/20\n",
      "160/160 [==============================] - 2s 13ms/step - loss: 0.0360 - accuracy: 0.9906 - val_loss: 0.1573 - val_accuracy: 0.9671\n",
      "Epoch 11/20\n",
      "160/160 [==============================] - 2s 13ms/step - loss: 0.0175 - accuracy: 0.9967 - val_loss: 0.1424 - val_accuracy: 0.9679\n",
      "Epoch 12/20\n",
      "160/160 [==============================] - 2s 13ms/step - loss: 0.0111 - accuracy: 0.9982 - val_loss: 0.1325 - val_accuracy: 0.9702\n",
      "Epoch 13/20\n",
      "160/160 [==============================] - 2s 12ms/step - loss: 0.0056 - accuracy: 0.9982 - val_loss: 0.1334 - val_accuracy: 0.9687\n",
      "Epoch 14/20\n",
      "160/160 [==============================] - 2s 12ms/step - loss: 0.0021 - accuracy: 1.0000 - val_loss: 0.1231 - val_accuracy: 0.9734\n",
      "Epoch 15/20\n",
      "160/160 [==============================] - 2s 12ms/step - loss: 0.0012 - accuracy: 1.0000 - val_loss: 0.1252 - val_accuracy: 0.9726\n",
      "Epoch 16/20\n",
      "160/160 [==============================] - 2s 14ms/step - loss: 8.7173e-04 - accuracy: 1.0000 - val_loss: 0.1264 - val_accuracy: 0.9741\n",
      "Epoch 17/20\n",
      "160/160 [==============================] - 2s 14ms/step - loss: 6.8692e-04 - accuracy: 1.0000 - val_loss: 0.1283 - val_accuracy: 0.9726\n",
      "Epoch 18/20\n",
      "160/160 [==============================] - 2s 14ms/step - loss: 5.7544e-04 - accuracy: 1.0000 - val_loss: 0.1296 - val_accuracy: 0.9734\n",
      "Epoch 19/20\n",
      "160/160 [==============================] - 2s 13ms/step - loss: 4.7565e-04 - accuracy: 1.0000 - val_loss: 0.1316 - val_accuracy: 0.9726\n",
      "Epoch 20/20\n",
      "160/160 [==============================] - 2s 14ms/step - loss: 4.0373e-04 - accuracy: 1.0000 - val_loss: 0.1322 - val_accuracy: 0.9734\n"
     ]
    },
    {
     "data": {
      "text/plain": [
       "<keras.src.callbacks.History at 0x1d0ae1f1590>"
      ]
     },
     "execution_count": 6,
     "metadata": {},
     "output_type": "execute_result"
    }
   ],
   "source": [
    "# cnn.fit(x= train, validation_data= validation, epochs=20)\n"
   ]
  },
  {
   "cell_type": "code",
   "execution_count": 7,
   "metadata": {},
   "outputs": [
    {
     "name": "stdout",
     "output_type": "stream",
     "text": [
      "INFO:tensorflow:Assets written to: number_identifier\\assets\n"
     ]
    },
    {
     "name": "stderr",
     "output_type": "stream",
     "text": [
      "INFO:tensorflow:Assets written to: number_identifier\\assets\n"
     ]
    }
   ],
   "source": [
    "cnn.save(\"number_identifier\")"
   ]
  },
  {
   "cell_type": "code",
   "execution_count": 9,
   "metadata": {},
   "outputs": [
    {
     "name": "stdout",
     "output_type": "stream",
     "text": [
      "[[0 3 9 5 0 0 0 0 0]\n",
      " [0 0 0 8 0 0 0 7 0]\n",
      " [0 0 0 0 1 0 9 0 4]\n",
      " [1 0 0 4 0 0 0 0 3]\n",
      " [0 0 0 0 0 0 0 0 0]\n",
      " [0 0 7 0 0 0 8 6 0]\n",
      " [0 0 6 7 0 8 2 0 0]\n",
      " [0 1 0 0 9 0 0 0 5]\n",
      " [0 0 0 0 0 1 0 0 8]]\n"
     ]
    }
   ],
   "source": [
    "from keras.preprocessing import image\n",
    "import tensorflow as tf\n",
    "tf.get_logger().setLevel('ERROR')\n",
    "from keras.models import load_model\n",
    "import cv2\n",
    "import numpy as np\n",
    "nums = []\n",
    "cnn = load_model('number_identifier')\n",
    "# path = \"number_images/\" + str(77) + \".jpg\"\n",
    "# test_image = image.load_img(path, target_size = (28, 28))\n",
    "# test_image = image.img_to_array(test_image)\n",
    "# test_image = cv2.cvtColor(test_image, cv2.COLOR_BGR2GRAY)\n",
    "# test_image = np.expand_dims(test_image, axis = 0)\n",
    "# result = list(cnn.predict(test_image, verbose= 0)[0])\n",
    "# print(result.index(max(result)))\n",
    "for i in range(81):\n",
    "    path = \"number_images/\" + str(i) + \".jpg\"\n",
    "    test_image = image.load_img(path, target_size = (28, 28))\n",
    "    test_image = image.img_to_array(test_image)\n",
    "    test_image = cv2.cvtColor(test_image, cv2.COLOR_BGR2GRAY)\n",
    "    test_image = np.expand_dims(test_image, axis = 0)\n",
    "    result = list(cnn.predict(test_image, verbose= 0)[0])\n",
    "    nums.append(result.index(max(result)))\n",
    "nums = np.reshape(nums, (9,9))\n",
    "print(nums)"
   ]
  }
 ],
 "metadata": {
  "kernelspec": {
   "display_name": "Python 3",
   "language": "python",
   "name": "python3"
  },
  "language_info": {
   "codemirror_mode": {
    "name": "ipython",
    "version": 3
   },
   "file_extension": ".py",
   "mimetype": "text/x-python",
   "name": "python",
   "nbconvert_exporter": "python",
   "pygments_lexer": "ipython3",
   "version": "3.11.6"
  }
 },
 "nbformat": 4,
 "nbformat_minor": 2
}
